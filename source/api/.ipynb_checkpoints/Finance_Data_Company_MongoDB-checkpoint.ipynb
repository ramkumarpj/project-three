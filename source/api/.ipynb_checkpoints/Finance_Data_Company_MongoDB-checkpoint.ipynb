{
 "cells": [
  {
   "cell_type": "markdown",
   "id": "f30978cf",
   "metadata": {},
   "source": [
    "# Create a Mongo Database"
   ]
  },
  {
   "cell_type": "code",
   "execution_count": 7,
   "id": "d5aca895",
   "metadata": {},
   "outputs": [],
   "source": [
    "from pymongo import MongoClient\n",
    "from pprint import pprint"
   ]
  },
  {
   "cell_type": "code",
   "execution_count": 8,
   "id": "a093c3fd",
   "metadata": {},
   "outputs": [],
   "source": [
    "# Create an instance of MongoClient\n",
    "mongo = MongoClient(port=27017)"
   ]
  },
  {
   "cell_type": "code",
   "execution_count": 9,
   "id": "7975c76f",
   "metadata": {},
   "outputs": [
    {
     "name": "stdout",
     "output_type": "stream",
     "text": [
      "['FinanceDB', 'admin', 'config', 'local', 'met', 'uk_food']\n"
     ]
    }
   ],
   "source": [
    "# confirm that our new database was created\n",
    "print(mongo.list_database_names())"
   ]
  },
  {
   "cell_type": "code",
   "execution_count": 12,
   "id": "575e1b57",
   "metadata": {},
   "outputs": [],
   "source": [
    "# assign the petsitly_marketing database to a variable name\n",
    "db = mongo['FinanceDB']"
   ]
  },
  {
   "cell_type": "code",
   "execution_count": 13,
   "id": "a6184d52",
   "metadata": {},
   "outputs": [
    {
     "name": "stdout",
     "output_type": "stream",
     "text": [
      "['companies']\n"
     ]
    }
   ],
   "source": [
    "# List the names of the collections in the database. \n",
    "# Be sure to use the variable name you assigned to your database to do this.\n",
    "print(db.list_collection_names())"
   ]
  },
  {
   "cell_type": "code",
   "execution_count": 18,
   "id": "b703c673",
   "metadata": {},
   "outputs": [
    {
     "name": "stdout",
     "output_type": "stream",
     "text": [
      "{'_id': ObjectId('65deae56a5c0720204c0262d'),\n",
      " 'cik': 808362,\n",
      " 'compnanyName': 'Baker Hughes Holdings LLC'}\n"
     ]
    }
   ],
   "source": [
    "pprint(db.companies.find_one())"
   ]
  },
  {
   "cell_type": "code",
   "execution_count": null,
   "id": "cc4170a7",
   "metadata": {},
   "outputs": [],
   "source": []
  }
 ],
 "metadata": {
  "kernelspec": {
   "display_name": "Python 3 (ipykernel)",
   "language": "python",
   "name": "python3"
  },
  "language_info": {
   "codemirror_mode": {
    "name": "ipython",
    "version": 3
   },
   "file_extension": ".py",
   "mimetype": "text/x-python",
   "name": "python",
   "nbconvert_exporter": "python",
   "pygments_lexer": "ipython3",
   "version": "3.10.13"
  }
 },
 "nbformat": 4,
 "nbformat_minor": 5
}
