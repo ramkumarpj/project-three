{
 "cells": [
  {
   "cell_type": "markdown",
   "id": "f30978cf",
   "metadata": {},
   "source": [
    "# Create a Mongo Database"
   ]
  },
  {
   "cell_type": "code",
   "execution_count": 1,
   "id": "d5aca895",
   "metadata": {},
   "outputs": [],
   "source": [
    "# Import dependencies\n",
    "from pymongo import MongoClient\n",
    "from pprint import pprint\n",
    "import pandas as pd"
   ]
  },
  {
   "cell_type": "code",
   "execution_count": 2,
   "id": "a093c3fd",
   "metadata": {},
   "outputs": [],
   "source": [
    "# Create an instance of MongoClient\n",
    "mongo = MongoClient(port=27017)"
   ]
  },
  {
   "cell_type": "code",
   "execution_count": 6,
   "id": "18f7ab16",
   "metadata": {},
   "outputs": [
    {
     "data": {
      "text/plain": [
       "['FinanceDB', 'admin', 'config', 'local']"
      ]
     },
     "execution_count": 6,
     "metadata": {},
     "output_type": "execute_result"
    }
   ],
   "source": [
    "# confirm that our new database was created\n",
    "mongo.list_database_names()"
   ]
  },
  {
   "cell_type": "code",
   "execution_count": 3,
   "id": "b7860048",
   "metadata": {},
   "outputs": [],
   "source": [
    "# assign the uk_food database to a variable name\n",
    "db = mongo['FinanceDB']"
   ]
  },
  {
   "cell_type": "code",
   "execution_count": 4,
   "id": "cc4170a7",
   "metadata": {},
   "outputs": [
    {
     "data": {
      "text/plain": [
       "['companies']"
      ]
     },
     "execution_count": 4,
     "metadata": {},
     "output_type": "execute_result"
    }
   ],
   "source": [
    "# review the collections in our new database\n",
    "db.list_collection_names()"
   ]
  },
  {
   "cell_type": "code",
   "execution_count": 9,
   "id": "9d00f478",
   "metadata": {},
   "outputs": [],
   "source": [
    "# assign the collection to a variable\n",
    "companies = db['companies']"
   ]
  },
  {
   "cell_type": "code",
   "execution_count": 10,
   "id": "3401bb44",
   "metadata": {},
   "outputs": [
    {
     "name": "stdout",
     "output_type": "stream",
     "text": [
      "{'_id': ObjectId('65e11c9a149119d5e3811655'),\n",
      " 'cik': 808362,\n",
      " 'companyName': 'Baker Hughes Holdings LLC'}\n"
     ]
    }
   ],
   "source": [
    "# Run a query on the 'companies' collection\n",
    "query_result = companies.find({'companyName': 'Baker Hughes Holdings LLC'})\n",
    "\n",
    "# Iterate through the query result and print each document\n",
    "for document in query_result:\n",
    "    pprint(document)"
   ]
  },
  {
   "cell_type": "code",
   "execution_count": 13,
   "id": "7240e434",
   "metadata": {},
   "outputs": [
    {
     "name": "stdout",
     "output_type": "stream",
     "text": [
      "{'_id': ObjectId('65e11c9a149119d5e3811657'),\n",
      " 'cik': 1652044,\n",
      " 'companyName': 'Alphabet Inc.'}\n"
     ]
    }
   ],
   "source": [
    "# Run a query on the 'companies' collection\n",
    "query_result = companies.find({'companyName': 'Alphabet Inc.'})\n",
    "\n",
    "# Iterate through the query result and print each document\n",
    "for document in query_result:\n",
    "    pprint(document)"
   ]
  },
  {
   "cell_type": "code",
   "execution_count": 14,
   "id": "eaa3521d",
   "metadata": {},
   "outputs": [
    {
     "name": "stdout",
     "output_type": "stream",
     "text": [
      "{'_id': ObjectId('65e11c9a149119d5e3811656'),\n",
      " 'cik': 1637459,\n",
      " 'companyName': 'Kraft Heinz Co'}\n"
     ]
    }
   ],
   "source": [
    "# Run a query on the 'companies' collection\n",
    "query_result = companies.find({'companyName': 'Kraft Heinz Co'})\n",
    "\n",
    "# Iterate through the query result and print each document\n",
    "for document in query_result:\n",
    "    pprint(document)"
   ]
  },
  {
   "cell_type": "code",
   "execution_count": null,
   "id": "c638d0a7",
   "metadata": {},
   "outputs": [],
   "source": []
  }
 ],
 "metadata": {
  "kernelspec": {
   "display_name": "Python 3 (ipykernel)",
   "language": "python",
   "name": "python3"
  },
  "language_info": {
   "codemirror_mode": {
    "name": "ipython",
    "version": 3
   },
   "file_extension": ".py",
   "mimetype": "text/x-python",
   "name": "python",
   "nbconvert_exporter": "python",
   "pygments_lexer": "ipython3",
   "version": "3.10.13"
  }
 },
 "nbformat": 4,
 "nbformat_minor": 5
}
