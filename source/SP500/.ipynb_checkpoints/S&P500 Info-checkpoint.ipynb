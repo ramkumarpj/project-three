{
 "cells": [
  {
   "cell_type": "markdown",
   "id": "a8630095",
   "metadata": {},
   "source": [
    "# S&P 500 Company List"
   ]
  },
  {
   "cell_type": "code",
   "execution_count": null,
   "id": "8e5fc3b4",
   "metadata": {},
   "outputs": [],
   "source": [
    "# Import dependencies\n",
    "from splinter import Browser\n",
    "from bs4 import BeautifulSoup\n",
    "import pandas as pd\n",
    "\n",
    "# Launch the browser\n",
    "browser = Browser('chrome')"
   ]
  },
  {
   "cell_type": "code",
   "execution_count": null,
   "id": "73c04087",
   "metadata": {},
   "outputs": [],
   "source": [
    "# Set Wikipedia URL\n",
    "url = \"https://en.wikipedia.org/wiki/List_of_S%26P_500_companies\"\n",
    "\n",
    "# Go to the URL\n",
    "browser.visit(url)\n",
    "\n",
    "# Save the HTML from the browser\n",
    "html = browser.html\n",
    "\n",
    "# Create a BeautifulSoup object\n",
    "soup = BeautifulSoup(html, 'html.parser')"
   ]
  },
  {
   "cell_type": "code",
   "execution_count": null,
   "id": "eb1dcde6",
   "metadata": {},
   "outputs": [],
   "source": [
    "# Extract all table rows\n",
    "table = soup.find(\"table\", class_=\"wikitable sortable jquery-tablesorter\")\n",
    "table = table.select(\"tbody\")\n",
    "\n",
    "print(table)"
   ]
  },
  {
   "cell_type": "code",
   "execution_count": null,
   "id": "706bc2ea",
   "metadata": {},
   "outputs": [],
   "source": [
    "# Empty list to store info\n",
    "SP500 = []"
   ]
  },
  {
   "cell_type": "code",
   "execution_count": null,
   "id": "1b1a25bf",
   "metadata": {},
   "outputs": [],
   "source": [
    "# Use for loop to find rows and extract text\n",
    "for row in table:\n",
    "    all_rows = row.find_all(\"tr\")\n",
    "    for row in all_rows:\n",
    "        company = []\n",
    "        columns = row.find_all(\"td\")\n",
    "        for column in columns:\n",
    "            if column.find(\"a\"):\n",
    "                company.append(column.find(\"a\").text)\n",
    "#                 print(column.find(\"a\").text)\n",
    "            else:\n",
    "                company.append(column.text)\n",
    "        SP500.append(company)\n",
    "print(SP500)\n",
    "            "
   ]
  },
  {
   "cell_type": "code",
   "execution_count": null,
   "id": "d41ab80f",
   "metadata": {},
   "outputs": [],
   "source": [
    "# Create a Pandas DataFrame by using the list of rows and a list of the column names\n",
    "SP500_df = pd.DataFrame(SP500)\n",
    "SP500_df.columns = ['Symbol', 'Security', 'GICS_Sector', 'GICS Sub_Industry', 'HQ Location', \n",
    "                    'Date_Added', 'CIK', 'Founded']\n",
    "SP500_df.head()"
   ]
  },
  {
   "cell_type": "code",
   "execution_count": null,
   "id": "bf641f47",
   "metadata": {},
   "outputs": [],
   "source": [
    "SP500_df = SP500_df.drop(columns=['Founded'])\n",
    "SP500_df.head()"
   ]
  },
  {
   "cell_type": "code",
   "execution_count": null,
   "id": "9f3b8cd8",
   "metadata": {},
   "outputs": [],
   "source": [
    "all_CIK = SP500_df[[\"Security\", \"CIK\"]]\n",
    "all_CIK"
   ]
  },
  {
   "cell_type": "code",
   "execution_count": null,
   "id": "0523b1b2",
   "metadata": {},
   "outputs": [],
   "source": [
    "# Write data to a CSV\n",
    "SP500_df.to_csv(\"../../data/input/SP500.csv\", index = False)"
   ]
  },
  {
   "cell_type": "code",
   "execution_count": null,
   "id": "62632526",
   "metadata": {},
   "outputs": [],
   "source": [
    "browser.quit()"
   ]
  }
 ],
 "metadata": {
  "kernelspec": {
   "display_name": "Python 3 (ipykernel)",
   "language": "python",
   "name": "python3"
  },
  "language_info": {
   "codemirror_mode": {
    "name": "ipython",
    "version": 3
   },
   "file_extension": ".py",
   "mimetype": "text/x-python",
   "name": "python",
   "nbconvert_exporter": "python",
   "pygments_lexer": "ipython3",
   "version": "3.10.13"
  }
 },
 "nbformat": 4,
 "nbformat_minor": 5
}
