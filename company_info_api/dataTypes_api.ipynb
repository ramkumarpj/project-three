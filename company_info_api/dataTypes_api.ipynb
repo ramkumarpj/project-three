{
 "cells": [
  {
   "cell_type": "code",
   "execution_count": 9,
   "id": "008742ef",
   "metadata": {},
   "outputs": [
    {
     "ename": "ModuleNotFoundError",
     "evalue": "No module named 'pymongo'",
     "output_type": "error",
     "traceback": [
      "\u001b[1;31m---------------------------------------------------------------------------\u001b[0m",
      "\u001b[1;31mModuleNotFoundError\u001b[0m                       Traceback (most recent call last)",
      "Cell \u001b[1;32mIn[9], line 2\u001b[0m\n\u001b[0;32m      1\u001b[0m \u001b[38;5;66;03m# Import dependencies\u001b[39;00m\n\u001b[1;32m----> 2\u001b[0m \u001b[38;5;28;01mfrom\u001b[39;00m \u001b[38;5;21;01mpymongo\u001b[39;00m \u001b[38;5;28;01mimport\u001b[39;00m MongoClient\n\u001b[0;32m      3\u001b[0m \u001b[38;5;28;01mfrom\u001b[39;00m \u001b[38;5;21;01mpprint\u001b[39;00m \u001b[38;5;28;01mimport\u001b[39;00m pprint\n\u001b[0;32m      4\u001b[0m \u001b[38;5;28;01mimport\u001b[39;00m \u001b[38;5;21;01mpandas\u001b[39;00m \u001b[38;5;28;01mas\u001b[39;00m \u001b[38;5;21;01mpd\u001b[39;00m\n",
      "\u001b[1;31mModuleNotFoundError\u001b[0m: No module named 'pymongo'"
     ]
    }
   ],
   "source": [
    "# Import dependencies\n",
    "from pymongo import MongoClient\n",
    "from pprint import pprint\n",
    "import pandas as pd"
   ]
  },
  {
   "cell_type": "code",
   "execution_count": 10,
   "id": "07ae175b",
   "metadata": {},
   "outputs": [
    {
     "ename": "NameError",
     "evalue": "name 'MongoClient' is not defined",
     "output_type": "error",
     "traceback": [
      "\u001b[1;31m---------------------------------------------------------------------------\u001b[0m",
      "\u001b[1;31mNameError\u001b[0m                                 Traceback (most recent call last)",
      "Cell \u001b[1;32mIn[10], line 2\u001b[0m\n\u001b[0;32m      1\u001b[0m \u001b[38;5;66;03m# Create an instance of MongoClient\u001b[39;00m\n\u001b[1;32m----> 2\u001b[0m mongo \u001b[38;5;241m=\u001b[39m \u001b[43mMongoClient\u001b[49m(port\u001b[38;5;241m=\u001b[39m\u001b[38;5;241m27017\u001b[39m)\n",
      "\u001b[1;31mNameError\u001b[0m: name 'MongoClient' is not defined"
     ]
    }
   ],
   "source": [
    "# Create an instance of MongoClient\n",
    "mongo = MongoClient(port=27017)"
   ]
  },
  {
   "cell_type": "code",
   "execution_count": 6,
   "id": "cfc7824c",
   "metadata": {},
   "outputs": [
    {
     "ename": "NameError",
     "evalue": "name 'mongo' is not defined",
     "output_type": "error",
     "traceback": [
      "\u001b[1;31m---------------------------------------------------------------------------\u001b[0m",
      "\u001b[1;31mNameError\u001b[0m                                 Traceback (most recent call last)",
      "Cell \u001b[1;32mIn[6], line 2\u001b[0m\n\u001b[0;32m      1\u001b[0m \u001b[38;5;66;03m# assign the uk_food database to a variable name\u001b[39;00m\n\u001b[1;32m----> 2\u001b[0m db \u001b[38;5;241m=\u001b[39m \u001b[43mmongo\u001b[49m[\u001b[38;5;124m'\u001b[39m\u001b[38;5;124msec_financials\u001b[39m\u001b[38;5;124m'\u001b[39m]\n",
      "\u001b[1;31mNameError\u001b[0m: name 'mongo' is not defined"
     ]
    }
   ],
   "source": [
    "# assign the uk_food database to a variable name\n",
    "db = mongo['FinanceDB']"
   ]
  },
  {
   "cell_type": "code",
   "execution_count": 7,
   "id": "15b65f96",
   "metadata": {},
   "outputs": [
    {
     "ename": "NameError",
     "evalue": "name 'db' is not defined",
     "output_type": "error",
     "traceback": [
      "\u001b[1;31m---------------------------------------------------------------------------\u001b[0m",
      "\u001b[1;31mNameError\u001b[0m                                 Traceback (most recent call last)",
      "Cell \u001b[1;32mIn[7], line 2\u001b[0m\n\u001b[0;32m      1\u001b[0m \u001b[38;5;66;03m# review the collections in our database\u001b[39;00m\n\u001b[1;32m----> 2\u001b[0m \u001b[43mdb\u001b[49m\u001b[38;5;241m.\u001b[39mlist_collection_names()\n",
      "\u001b[1;31mNameError\u001b[0m: name 'db' is not defined"
     ]
    }
   ],
   "source": [
    "# review the collections in our database\n",
    "db.list_collection_names()"
   ]
  },
  {
   "cell_type": "code",
   "execution_count": 11,
   "id": "86600fe1",
   "metadata": {},
   "outputs": [
    {
     "ename": "NameError",
     "evalue": "name 'db' is not defined",
     "output_type": "error",
     "traceback": [
      "\u001b[1;31m---------------------------------------------------------------------------\u001b[0m",
      "\u001b[1;31mNameError\u001b[0m                                 Traceback (most recent call last)",
      "Cell \u001b[1;32mIn[11], line 2\u001b[0m\n\u001b[0;32m      1\u001b[0m \u001b[38;5;66;03m# assign the collection to a variable\u001b[39;00m\n\u001b[1;32m----> 2\u001b[0m finance \u001b[38;5;241m=\u001b[39m \u001b[43mdb\u001b[49m[\u001b[38;5;124m'\u001b[39m\u001b[38;5;124mfinance\u001b[39m\u001b[38;5;124m'\u001b[39m]\n",
      "\u001b[1;31mNameError\u001b[0m: name 'db' is not defined"
     ]
    }
   ],
   "source": [
    "# assign the collection to a variable\n",
    "finance = db['finance']"
   ]
  },
  {
   "cell_type": "code",
   "execution_count": null,
   "id": "9d4330d0",
   "metadata": {},
   "outputs": [],
   "source": [
    "# Query all SalesRevenueGoodsNet datatypes\n",
    "query = {\"dataType\" : 'SalesRevenueGoodsNet'}\n",
    "\n",
    "# Display the first document in the results using pprint\n",
    "\n",
    "results = finance.find(query)\n",
    "\n",
    "print(\"First Document:\")\n",
    "pprint(results[0])"
   ]
  },
  {
   "cell_type": "code",
   "execution_count": null,
   "id": "18cfd1e6",
   "metadata": {},
   "outputs": [],
   "source": [
    "# Query all SalesRevenueServiesNet datatypes\n",
    "query = {\"dataType\" : 'SalesRevenueServicesNet'}\n",
    "\n",
    "# Display the first document in the results using pprint\n",
    "\n",
    "results = finance.find(query)\n",
    "\n",
    "print(\"First Document:\")\n",
    "pprint(results[0])"
   ]
  },
  {
   "cell_type": "code",
   "execution_count": null,
   "id": "9c895b1c",
   "metadata": {},
   "outputs": [],
   "source": [
    "# Query all RevenueFromContractWithCustomerIncludingAssessedTax datatypes\n",
    "query = {\"dataType\" : 'RevenueFromContractWithCustomerIncludingAssessedTax'}\n",
    "\n",
    "# Display the first document in the results using pprint\n",
    "\n",
    "results = finance.find(query)\n",
    "\n",
    "print(\"First Document:\")\n",
    "pprint(results[0])"
   ]
  },
  {
   "cell_type": "code",
   "execution_count": null,
   "id": "8fe33087",
   "metadata": {},
   "outputs": [],
   "source": [
    "# Query all GrossProfit datatypes\n",
    "query = {\"dataType\" : 'GrossProfit'}\n",
    "\n",
    "# Display the first document in the results using pprint\n",
    "\n",
    "results = finance.find(query)\n",
    "\n",
    "print(\"First Document:\")\n",
    "pprint(results[0])"
   ]
  },
  {
   "cell_type": "code",
   "execution_count": null,
   "id": "e3e76475",
   "metadata": {},
   "outputs": [],
   "source": [
    "# Query all OperatingIncomeLoss datatypes\n",
    "query = {\"dataType\" : 'OperatingIncomeLoss'}\n",
    "\n",
    "# Display the first document in the results using pprint\n",
    "\n",
    "results = finance.find(query)\n",
    "\n",
    "print(\"First Document:\")\n",
    "pprint(results[0])"
   ]
  },
  {
   "cell_type": "code",
   "execution_count": null,
   "id": "5150ac46",
   "metadata": {},
   "outputs": [],
   "source": [
    "# Query all NetIncomeLoss datatypes\n",
    "query = {\"dataType\" : 'NetIncomeLoss'}\n",
    "\n",
    "# Display the first document in the results using pprint\n",
    "\n",
    "results = finance.find(query)\n",
    "\n",
    "print(\"First Document:\")\n",
    "pprint(results[0])"
   ]
  },
  {
   "cell_type": "code",
   "execution_count": null,
   "id": "c6bb6e8b",
   "metadata": {},
   "outputs": [],
   "source": [
    "# Query all ResearchAndDevelopmentExpense datatypes\n",
    "query = {\"dataType\" : 'ResearchAndDevelopmentExpense'}\n",
    "\n",
    "# Display the first document in the results using pprint\n",
    "\n",
    "results = finance.find(query)\n",
    "\n",
    "print(\"First Document:\")\n",
    "pprint(results[0])"
   ]
  },
  {
   "cell_type": "code",
   "execution_count": null,
   "id": "2531908b",
   "metadata": {},
   "outputs": [],
   "source": [
    "# Query all ShareBasedCompensation datatypes\n",
    "query = {\"dataType\" : 'ShareBasedCompensation'}\n",
    "\n",
    "# Display the first document in the results using pprint\n",
    "\n",
    "results = finance.find(query)\n",
    "\n",
    "print(\"First Document:\")\n",
    "pprint(results[0])"
   ]
  },
  {
   "cell_type": "code",
   "execution_count": null,
   "id": "021ecb34",
   "metadata": {},
   "outputs": [],
   "source": [
    "# Query all Depreciation datatypes\n",
    "query = {\"dataType\" : 'Depreciation'}\n",
    "\n",
    "# Display the first document in the results using pprint\n",
    "\n",
    "results = finance.find(query)\n",
    "\n",
    "print(\"First Document:\")\n",
    "pprint(results[0])"
   ]
  },
  {
   "cell_type": "code",
   "execution_count": null,
   "id": "d7a190a2",
   "metadata": {},
   "outputs": [],
   "source": [
    "# Query all AllocatedShareBasedCompensationExpense datatypes\n",
    "query = {\"dataType\" : 'AllocatedShareBasedCompensationExpense'}\n",
    "\n",
    "# Display the first document in the results using pprint\n",
    "\n",
    "results = finance.find(query)\n",
    "\n",
    "print(\"First Document:\")\n",
    "pprint(results[0])"
   ]
  },
  {
   "cell_type": "code",
   "execution_count": null,
   "id": "6bc4e221",
   "metadata": {},
   "outputs": [],
   "source": [
    "# Query all CostsAndExpenses datatypes\n",
    "query = {\"dataType\" : 'CostsAndExpenses'}\n",
    "\n",
    "# Display the first document in the results using pprint\n",
    "\n",
    "results = finance.find(query)\n",
    "\n",
    "print(\"First Document:\")\n",
    "pprint(results[0])"
   ]
  },
  {
   "cell_type": "code",
   "execution_count": null,
   "id": "30aceb3a",
   "metadata": {},
   "outputs": [],
   "source": [
    "# Query all GeneralAndAdminstrativeExpense datatypes\n",
    "query = {\"dataType\" : 'GeneralAndAdministrativeExpense'}\n",
    "\n",
    "# Display the first document in the results using pprint\n",
    "\n",
    "results = finance.find(query)\n",
    "\n",
    "print(\"First Document:\")\n",
    "pprint(results[0])"
   ]
  },
  {
   "cell_type": "code",
   "execution_count": null,
   "id": "cadfddf9",
   "metadata": {},
   "outputs": [],
   "source": [
    "# Query all InterestExpense datatypes\n",
    "query = {\"dataType\" : 'InterestExpense'}\n",
    "\n",
    "# Display the first document in the results using pprint\n",
    "\n",
    "results = finance.find(query)\n",
    "\n",
    "print(\"First Document:\")\n",
    "pprint(results[0])"
   ]
  },
  {
   "cell_type": "code",
   "execution_count": null,
   "id": "716be7c0",
   "metadata": {},
   "outputs": [],
   "source": [
    "# Query all LeaseAndRentalExpense datatypes\n",
    "query = {\"dataType\" : 'LeaseAndRentalExpense'}\n",
    "\n",
    "# Display the first document in the results using pprint\n",
    "\n",
    "results = finance.find(query)\n",
    "\n",
    "print(\"First Document:\")\n",
    "pprint(results[0])"
   ]
  },
  {
   "cell_type": "code",
   "execution_count": null,
   "id": "0aa93c2a",
   "metadata": {},
   "outputs": [],
   "source": [
    "# Query all MarkertingAndAdvertisingExpense datatypes\n",
    "query = {\"dataType\" : 'MarketingAndAdvertisingExpense'}\n",
    "\n",
    "# Display the first document in the results using pprint\n",
    "\n",
    "results = finance.find(query)\n",
    "\n",
    "print(\"First Document:\")\n",
    "pprint(results[0])"
   ]
  },
  {
   "cell_type": "code",
   "execution_count": null,
   "id": "c9b8a7c8",
   "metadata": {},
   "outputs": [],
   "source": [
    "# Query all OtherAccruedLiabilitiesCurrent datatypes\n",
    "query = {\"dataType\" : 'OtherAccruedLiabilitiesCurrent'}\n",
    "\n",
    "# Display the first document in the results using pprint\n",
    "\n",
    "results = finance.find(query)\n",
    "\n",
    "print(\"First Document:\")\n",
    "pprint(results[0])"
   ]
  },
  {
   "cell_type": "code",
   "execution_count": null,
   "id": "3398e0ca",
   "metadata": {},
   "outputs": [],
   "source": [
    "# Query all EntityCommonStockSharesOutstanding datatypes\n",
    "query = {\"dataType\" : 'EntityCommonStockSharesOutstanding'}\n",
    "\n",
    "# Display the first document in the results using pprint\n",
    "\n",
    "results = finance.find(query)\n",
    "\n",
    "print(\"First Document:\")\n",
    "pprint(results[0])"
   ]
  },
  {
   "cell_type": "code",
   "execution_count": null,
   "id": "92d5b4be",
   "metadata": {},
   "outputs": [],
   "source": [
    "# Query all EntityPublicFloat datatypes\n",
    "query = {\"dataType\" : 'EntityPublicFloat'}\n",
    "\n",
    "# Display the first document in the results using pprint\n",
    "\n",
    "results = finance.find(query)\n",
    "\n",
    "print(\"First Document:\")\n",
    "pprint(results[0])"
   ]
  }
 ],
 "metadata": {
  "kernelspec": {
   "display_name": "Python 3 (ipykernel)",
   "language": "python",
   "name": "python3"
  },
  "language_info": {
   "codemirror_mode": {
    "name": "ipython",
    "version": 3
   },
   "file_extension": ".py",
   "mimetype": "text/x-python",
   "name": "python",
   "nbconvert_exporter": "python",
   "pygments_lexer": "ipython3",
   "version": "3.9.18"
  }
 },
 "nbformat": 4,
 "nbformat_minor": 5
}
