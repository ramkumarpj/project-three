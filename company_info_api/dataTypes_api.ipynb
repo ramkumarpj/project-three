{
 "cells": [
  {
   "cell_type": "code",
   "execution_count": 9,
   "id": "008742ef",
   "metadata": {},
   "outputs": [
    {
     "ename": "ModuleNotFoundError",
     "evalue": "No module named 'pymongo'",
     "output_type": "error",
     "traceback": [
      "\u001b[1;31m---------------------------------------------------------------------------\u001b[0m",
      "\u001b[1;31mModuleNotFoundError\u001b[0m                       Traceback (most recent call last)",
      "Cell \u001b[1;32mIn[9], line 2\u001b[0m\n\u001b[0;32m      1\u001b[0m \u001b[38;5;66;03m# Import dependencies\u001b[39;00m\n\u001b[1;32m----> 2\u001b[0m \u001b[38;5;28;01mfrom\u001b[39;00m \u001b[38;5;21;01mpymongo\u001b[39;00m \u001b[38;5;28;01mimport\u001b[39;00m MongoClient\n\u001b[0;32m      3\u001b[0m \u001b[38;5;28;01mfrom\u001b[39;00m \u001b[38;5;21;01mpprint\u001b[39;00m \u001b[38;5;28;01mimport\u001b[39;00m pprint\n\u001b[0;32m      4\u001b[0m \u001b[38;5;28;01mimport\u001b[39;00m \u001b[38;5;21;01mpandas\u001b[39;00m \u001b[38;5;28;01mas\u001b[39;00m \u001b[38;5;21;01mpd\u001b[39;00m\n",
      "\u001b[1;31mModuleNotFoundError\u001b[0m: No module named 'pymongo'"
     ]
    }
   ],
   "source": [
    "# Import dependencies\n",
    "from pymongo import MongoClient\n",
    "from pprint import pprint\n",
    "import pandas as pd"
   ]
  },
  {
   "cell_type": "code",
   "execution_count": 10,
   "id": "07ae175b",
   "metadata": {},
   "outputs": [
    {
     "ename": "NameError",
     "evalue": "name 'MongoClient' is not defined",
     "output_type": "error",
     "traceback": [
      "\u001b[1;31m---------------------------------------------------------------------------\u001b[0m",
      "\u001b[1;31mNameError\u001b[0m                                 Traceback (most recent call last)",
      "Cell \u001b[1;32mIn[10], line 2\u001b[0m\n\u001b[0;32m      1\u001b[0m \u001b[38;5;66;03m# Create an instance of MongoClient\u001b[39;00m\n\u001b[1;32m----> 2\u001b[0m mongo \u001b[38;5;241m=\u001b[39m \u001b[43mMongoClient\u001b[49m(port\u001b[38;5;241m=\u001b[39m\u001b[38;5;241m27017\u001b[39m)\n",
      "\u001b[1;31mNameError\u001b[0m: name 'MongoClient' is not defined"
     ]
    }
   ],
   "source": [
    "# Create an instance of MongoClient\n",
    "mongo = MongoClient(port=27017)"
   ]
  },
  {
   "cell_type": "code",
   "execution_count": 6,
   "id": "cfc7824c",
   "metadata": {},
   "outputs": [
    {
     "ename": "NameError",
     "evalue": "name 'mongo' is not defined",
     "output_type": "error",
     "traceback": [
      "\u001b[1;31m---------------------------------------------------------------------------\u001b[0m",
      "\u001b[1;31mNameError\u001b[0m                                 Traceback (most recent call last)",
      "Cell \u001b[1;32mIn[6], line 2\u001b[0m\n\u001b[0;32m      1\u001b[0m \u001b[38;5;66;03m# assign the uk_food database to a variable name\u001b[39;00m\n\u001b[1;32m----> 2\u001b[0m db \u001b[38;5;241m=\u001b[39m \u001b[43mmongo\u001b[49m[\u001b[38;5;124m'\u001b[39m\u001b[38;5;124msec_financials\u001b[39m\u001b[38;5;124m'\u001b[39m]\n",
      "\u001b[1;31mNameError\u001b[0m: name 'mongo' is not defined"
     ]
    }
   ],
   "source": [
    "# assign the uk_food database to a variable name\n",
    "db = mongo['FinanceDB']"
   ]
  },
  {
   "cell_type": "code",
   "execution_count": 7,
   "id": "15b65f96",
   "metadata": {},
   "outputs": [
    {
     "ename": "NameError",
     "evalue": "name 'db' is not defined",
     "output_type": "error",
     "traceback": [
      "\u001b[1;31m---------------------------------------------------------------------------\u001b[0m",
      "\u001b[1;31mNameError\u001b[0m                                 Traceback (most recent call last)",
      "Cell \u001b[1;32mIn[7], line 2\u001b[0m\n\u001b[0;32m      1\u001b[0m \u001b[38;5;66;03m# review the collections in our database\u001b[39;00m\n\u001b[1;32m----> 2\u001b[0m \u001b[43mdb\u001b[49m\u001b[38;5;241m.\u001b[39mlist_collection_names()\n",
      "\u001b[1;31mNameError\u001b[0m: name 'db' is not defined"
     ]
    }
   ],
   "source": [
    "# review the collections in our database\n",
    "db.list_collection_names()"
   ]
  },
  {
   "cell_type": "code",
   "execution_count": 11,
   "id": "86600fe1",
   "metadata": {},
   "outputs": [
    {
     "ename": "NameError",
     "evalue": "name 'db' is not defined",
     "output_type": "error",
     "traceback": [
      "\u001b[1;31m---------------------------------------------------------------------------\u001b[0m",
      "\u001b[1;31mNameError\u001b[0m                                 Traceback (most recent call last)",
      "Cell \u001b[1;32mIn[11], line 2\u001b[0m\n\u001b[0;32m      1\u001b[0m \u001b[38;5;66;03m# assign the collection to a variable\u001b[39;00m\n\u001b[1;32m----> 2\u001b[0m finance \u001b[38;5;241m=\u001b[39m \u001b[43mdb\u001b[49m[\u001b[38;5;124m'\u001b[39m\u001b[38;5;124mfinance\u001b[39m\u001b[38;5;124m'\u001b[39m]\n",
      "\u001b[1;31mNameError\u001b[0m: name 'db' is not defined"
     ]
    }
   ],
   "source": [
    "# assign the collection to a variable\n",
    "finance = db['finance']"
   ]
  },
  {
   "cell_type": "code",
   "execution_count": null,
   "id": "9d4330d0",
   "metadata": {},
   "outputs": [],
   "source": [
    "query = {\"dataType\" : 'SalesRevenueGoodsNet'}\n",
    "\n",
    "# Display the first document in the results using pprint\n",
    "\n",
    "results = finance.find(query)\n",
    "\n",
    "print(\"First Document:\")\n",
    "pprint(results[0])"
   ]
  },
  {
   "cell_type": "code",
   "execution_count": null,
   "id": "3ada2246",
   "metadata": {},
   "outputs": [],
   "source": [
    "query = {\"dataType\" : 'SalesRevenueServicesNet'}\n",
    "\n",
    "# Display the first document in the results using pprint\n",
    "\n",
    "results = finance.find(query)\n",
    "\n",
    "print(\"First Document:\")\n",
    "pprint(results[0])"
   ]
  },
  {
   "cell_type": "code",
   "execution_count": null,
   "id": "b33364dc",
   "metadata": {},
   "outputs": [],
   "source": [
    "query = {\"dataType\" : 'RevenueFromContractWithCustomerIncludingAssessedTax'}\n",
    "\n",
    "# Display the first document in the results using pprint\n",
    "\n",
    "results = finance.find(query)\n",
    "\n",
    "print(\"First Document:\")\n",
    "pprint(results[0])"
   ]
  },
  {
   "cell_type": "code",
   "execution_count": null,
   "id": "8d12a2df",
   "metadata": {},
   "outputs": [],
   "source": [
    "query = {\"dataType\" : 'GrossProfit'}\n",
    "\n",
    "# Display the first document in the results using pprint\n",
    "\n",
    "results = finance.find(query)\n",
    "\n",
    "print(\"First Document:\")\n",
    "pprint(results[0])"
   ]
  },
  {
   "cell_type": "code",
   "execution_count": null,
   "id": "1bfc3855",
   "metadata": {},
   "outputs": [],
   "source": [
    "query = {\"dataType\" : 'OperatingIncomeLoss'}\n",
    "\n",
    "# Display the first document in the results using pprint\n",
    "\n",
    "results = finance.find(query)\n",
    "\n",
    "print(\"First Document:\")\n",
    "pprint(results[0])"
   ]
  },
  {
   "cell_type": "code",
   "execution_count": null,
   "id": "c5fa8257",
   "metadata": {},
   "outputs": [],
   "source": [
    "query = {\"dataType\" : 'NetIncomeLoss'}\n",
    "\n",
    "# Display the first document in the results using pprint\n",
    "\n",
    "results = finance.find(query)\n",
    "\n",
    "print(\"First Document:\")\n",
    "pprint(results[0])"
   ]
  },
  {
   "cell_type": "code",
   "execution_count": null,
   "id": "3f5e6ff6",
   "metadata": {},
   "outputs": [],
   "source": [
    "query = {\"dataType\" : 'ResearchAndDevelopmentExpense'}\n",
    "\n",
    "# Display the first document in the results using pprint\n",
    "\n",
    "results = finance.find(query)\n",
    "\n",
    "print(\"First Document:\")\n",
    "pprint(results[0])"
   ]
  },
  {
   "cell_type": "code",
   "execution_count": null,
   "id": "7e73a26b",
   "metadata": {},
   "outputs": [],
   "source": [
    "query = {\"dataType\" : 'ShareBasedCompensation'}\n",
    "\n",
    "# Display the first document in the results using pprint\n",
    "\n",
    "results = finance.find(query)\n",
    "\n",
    "print(\"First Document:\")\n",
    "pprint(results[0])"
   ]
  },
  {
   "cell_type": "code",
   "execution_count": null,
   "id": "94e2f823",
   "metadata": {},
   "outputs": [],
   "source": [
    "query = {\"dataType\" : 'Depreciation'}\n",
    "\n",
    "# Display the first document in the results using pprint\n",
    "\n",
    "results = finance.find(query)\n",
    "\n",
    "print(\"First Document:\")\n",
    "pprint(results[0])"
   ]
  },
  {
   "cell_type": "code",
   "execution_count": null,
   "id": "3a4d7489",
   "metadata": {},
   "outputs": [],
   "source": [
    "query = {\"dataType\" : 'AllocatedShareBasedCompensationExpense'}\n",
    "\n",
    "# Display the first document in the results using pprint\n",
    "\n",
    "results = finance.find(query)\n",
    "\n",
    "print(\"First Document:\")\n",
    "pprint(results[0])"
   ]
  },
  {
   "cell_type": "code",
   "execution_count": null,
   "id": "f574d10f",
   "metadata": {},
   "outputs": [],
   "source": [
    "query = {\"dataType\" : 'CostsAndExpenses'}\n",
    "\n",
    "# Display the first document in the results using pprint\n",
    "\n",
    "results = finance.find(query)\n",
    "\n",
    "print(\"First Document:\")\n",
    "pprint(results[0])"
   ]
  },
  {
   "cell_type": "code",
   "execution_count": null,
   "id": "1c9c7f4d",
   "metadata": {},
   "outputs": [],
   "source": [
    "query = {\"dataType\" : 'GeneralAndAdministrativeExpense'}\n",
    "\n",
    "# Display the first document in the results using pprint\n",
    "\n",
    "results = finance.find(query)\n",
    "\n",
    "print(\"First Document:\")\n",
    "pprint(results[0])"
   ]
  },
  {
   "cell_type": "code",
   "execution_count": null,
   "id": "7ad7a874",
   "metadata": {},
   "outputs": [],
   "source": [
    "query = {\"dataType\" : 'InterestExpense'}\n",
    "\n",
    "# Display the first document in the results using pprint\n",
    "\n",
    "results = finance.find(query)\n",
    "\n",
    "print(\"First Document:\")\n",
    "pprint(results[0])"
   ]
  },
  {
   "cell_type": "code",
   "execution_count": null,
   "id": "70a7a196",
   "metadata": {},
   "outputs": [],
   "source": [
    "query = {\"dataType\" : 'LeaseAndRentalExpense'}\n",
    "\n",
    "# Display the first document in the results using pprint\n",
    "\n",
    "results = finance.find(query)\n",
    "\n",
    "print(\"First Document:\")\n",
    "pprint(results[0])"
   ]
  },
  {
   "cell_type": "code",
   "execution_count": null,
   "id": "07d7c101",
   "metadata": {},
   "outputs": [],
   "source": [
    "query = {\"dataType\" : 'MarketingAndAdvertisingExpense'}\n",
    "\n",
    "# Display the first document in the results using pprint\n",
    "\n",
    "results = finance.find(query)\n",
    "\n",
    "print(\"First Document:\")\n",
    "pprint(results[0])"
   ]
  },
  {
   "cell_type": "code",
   "execution_count": null,
   "id": "fc982363",
   "metadata": {},
   "outputs": [],
   "source": [
    "query = {\"dataType\" : 'OtherAccruedLiabilitiesCurrent'}\n",
    "\n",
    "# Display the first document in the results using pprint\n",
    "\n",
    "results = finance.find(query)\n",
    "\n",
    "print(\"First Document:\")\n",
    "pprint(results[0])"
   ]
  },
  {
   "cell_type": "code",
   "execution_count": null,
   "id": "d62baeb0",
   "metadata": {},
   "outputs": [],
   "source": [
    "query = {\"dataType\" : 'Depreciation'}\n",
    "\n",
    "# Display the first document in the results using pprint\n",
    "\n",
    "results = finance.find(query)\n",
    "\n",
    "print(\"First Document:\")\n",
    "pprint(results[0])"
   ]
  },
  {
   "cell_type": "code",
   "execution_count": null,
   "id": "16f6e21a",
   "metadata": {},
   "outputs": [],
   "source": [
    "query = {\"dataType\" : 'EntityCommonStockSharesOutstanding'}\n",
    "\n",
    "# Display the first document in the results using pprint\n",
    "\n",
    "results = finance.find(query)\n",
    "\n",
    "print(\"First Document:\")\n",
    "pprint(results[0])"
   ]
  },
  {
   "cell_type": "code",
   "execution_count": null,
   "id": "3621afa3",
   "metadata": {},
   "outputs": [],
   "source": [
    "query = {\"dataType\" : 'EntityPublicFloat'}\n",
    "\n",
    "# Display the first document in the results using pprint\n",
    "\n",
    "results = finance.find(query)\n",
    "\n",
    "print(\"First Document:\")\n",
    "pprint(results[0])"
   ]
  }
 ],
 "metadata": {
  "kernelspec": {
   "display_name": "Python 3 (ipykernel)",
   "language": "python",
   "name": "python3"
  },
  "language_info": {
   "codemirror_mode": {
    "name": "ipython",
    "version": 3
   },
   "file_extension": ".py",
   "mimetype": "text/x-python",
   "name": "python",
   "nbconvert_exporter": "python",
   "pygments_lexer": "ipython3",
   "version": "3.9.18"
  }
 },
 "nbformat": 4,
 "nbformat_minor": 5
}
