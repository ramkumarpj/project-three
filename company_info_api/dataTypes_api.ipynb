{
 "cells": [
  {
   "cell_type": "code",
   "execution_count": 1,
   "id": "008742ef",
   "metadata": {},
   "outputs": [],
   "source": [
    "# Import dependencies\n",
    "from pymongo import MongoClient\n",
    "from pprint import pprint\n",
    "import pandas as pd"
   ]
  },
  {
   "cell_type": "code",
   "execution_count": 2,
   "id": "07ae175b",
   "metadata": {},
   "outputs": [],
   "source": [
    "# Create an instance of MongoClient\n",
    "mongo = MongoClient(port=27017)"
   ]
  },
  {
   "cell_type": "code",
   "execution_count": 3,
   "id": "cfc7824c",
   "metadata": {},
   "outputs": [],
   "source": [
    "# assign the uk_food database to a variable name\n",
    "db = mongo['FinanceDB']"
   ]
  },
  {
   "cell_type": "code",
   "execution_count": 4,
   "id": "15b65f96",
   "metadata": {},
   "outputs": [
    {
     "data": {
      "text/plain": [
       "['companies', 'finance']"
      ]
     },
     "execution_count": 4,
     "metadata": {},
     "output_type": "execute_result"
    }
   ],
   "source": [
    "# review the collections in our database\n",
    "db.list_collection_names()"
   ]
  },
  {
   "cell_type": "code",
   "execution_count": 5,
   "id": "86600fe1",
   "metadata": {},
   "outputs": [],
   "source": [
    "# assign the collection to a variable\n",
    "finance = db['finance']"
   ]
  },
  {
   "cell_type": "code",
   "execution_count": 6,
   "id": "9d4330d0",
   "metadata": {},
   "outputs": [
    {
     "name": "stdout",
     "output_type": "stream",
     "text": [
      "First Document:\n",
      "{'_id': ObjectId('65e12b9dde62a26d6ce056e8'),\n",
      " 'cik': '808362',\n",
      " 'dataType': 'SalesRevenueGoodsNet',\n",
      " 'qtr': 0,\n",
      " 'value': 5171000000,\n",
      " 'year': 2007}\n"
     ]
    }
   ],
   "source": [
    "# Query all SalesRevenueGoodsNet datatypes\n",
    "query = {\"dataType\" : 'SalesRevenueGoodsNet'}\n",
    "\n",
    "# Display the first document in the results using pprint\n",
    "\n",
    "results = finance.find(query)\n",
    "\n",
    "print(\"First Document:\")\n",
    "pprint(results[0])"
   ]
  },
  {
   "cell_type": "code",
   "execution_count": 7,
   "id": "18cfd1e6",
   "metadata": {},
   "outputs": [
    {
     "name": "stdout",
     "output_type": "stream",
     "text": [
      "First Document:\n",
      "{'_id': ObjectId('65e12b9dde62a26d6ce05711'),\n",
      " 'cik': '808362',\n",
      " 'dataType': 'SalesRevenueServicesNet',\n",
      " 'qtr': 0,\n",
      " 'value': 5257000000,\n",
      " 'year': 2007}\n"
     ]
    }
   ],
   "source": [
    "# Query all SalesRevenueServiesNet datatypes\n",
    "query = {\"dataType\" : 'SalesRevenueServicesNet'}\n",
    "\n",
    "# Display the first document in the results using pprint\n",
    "\n",
    "results = finance.find(query)\n",
    "\n",
    "print(\"First Document:\")\n",
    "pprint(results[0])"
   ]
  },
  {
   "cell_type": "code",
   "execution_count": 8,
   "id": "9c895b1c",
   "metadata": {},
   "outputs": [
    {
     "name": "stdout",
     "output_type": "stream",
     "text": [
      "First Document:\n",
      "{'_id': ObjectId('65e12b9dde62a26d6ce0573a'),\n",
      " 'cik': '808362',\n",
      " 'dataType': 'RevenueFromContractWithCustomerIncludingAssessedTax',\n",
      " 'qtr': 2,\n",
      " 'value': 3015000000,\n",
      " 'year': 2017}\n"
     ]
    }
   ],
   "source": [
    "# Query all RevenueFromContractWithCustomerIncludingAssessedTax datatypes\n",
    "query = {\"dataType\" : 'RevenueFromContractWithCustomerIncludingAssessedTax'}\n",
    "\n",
    "# Display the first document in the results using pprint\n",
    "\n",
    "results = finance.find(query)\n",
    "\n",
    "print(\"First Document:\")\n",
    "pprint(results[0])"
   ]
  },
  {
   "cell_type": "code",
   "execution_count": 9,
   "id": "8fe33087",
   "metadata": {},
   "outputs": [
    {
     "name": "stdout",
     "output_type": "stream",
     "text": [
      "First Document:\n",
      "{'_id': ObjectId('65e12b9dde62a26d6ce0573e'),\n",
      " 'cik': '808362',\n",
      " 'dataType': 'GrossProfit',\n",
      " 'qtr': 1,\n",
      " 'value': 599000000,\n",
      " 'year': 2009}\n"
     ]
    }
   ],
   "source": [
    "# Query all GrossProfit datatypes\n",
    "query = {\"dataType\" : 'GrossProfit'}\n",
    "\n",
    "# Display the first document in the results using pprint\n",
    "\n",
    "results = finance.find(query)\n",
    "\n",
    "print(\"First Document:\")\n",
    "pprint(results[0])"
   ]
  },
  {
   "cell_type": "code",
   "execution_count": 10,
   "id": "e3e76475",
   "metadata": {},
   "outputs": [
    {
     "name": "stdout",
     "output_type": "stream",
     "text": [
      "First Document:\n",
      "{'_id': ObjectId('65e12b9dde62a26d6ce05775'),\n",
      " 'cik': '808362',\n",
      " 'dataType': 'OperatingIncomeLoss',\n",
      " 'qtr': 0,\n",
      " 'value': 2278000000,\n",
      " 'year': 2007}\n"
     ]
    }
   ],
   "source": [
    "# Query all OperatingIncomeLoss datatypes\n",
    "query = {\"dataType\" : 'OperatingIncomeLoss'}\n",
    "\n",
    "# Display the first document in the results using pprint\n",
    "\n",
    "results = finance.find(query)\n",
    "\n",
    "print(\"First Document:\")\n",
    "pprint(results[0])"
   ]
  },
  {
   "cell_type": "code",
   "execution_count": 11,
   "id": "5150ac46",
   "metadata": {},
   "outputs": [
    {
     "name": "stdout",
     "output_type": "stream",
     "text": [
      "First Document:\n",
      "{'_id': ObjectId('65e12b9dde62a26d6ce057b4'),\n",
      " 'cik': '808362',\n",
      " 'dataType': 'NetIncomeLoss',\n",
      " 'qtr': 0,\n",
      " 'value': 1635000000,\n",
      " 'year': 2008}\n"
     ]
    }
   ],
   "source": [
    "# Query all NetIncomeLoss datatypes\n",
    "query = {\"dataType\" : 'NetIncomeLoss'}\n",
    "\n",
    "# Display the first document in the results using pprint\n",
    "\n",
    "results = finance.find(query)\n",
    "\n",
    "print(\"First Document:\")\n",
    "pprint(results[0])"
   ]
  },
  {
   "cell_type": "code",
   "execution_count": 12,
   "id": "c6bb6e8b",
   "metadata": {},
   "outputs": [
    {
     "name": "stdout",
     "output_type": "stream",
     "text": [
      "First Document:\n",
      "{'_id': ObjectId('65e12b9dde62a26d6ce057fb'),\n",
      " 'cik': '808362',\n",
      " 'dataType': 'ResearchAndDevelopmentExpense',\n",
      " 'qtr': 0,\n",
      " 'value': 372000000,\n",
      " 'year': 2007}\n"
     ]
    }
   ],
   "source": [
    "# Query all ResearchAndDevelopmentExpense datatypes\n",
    "query = {\"dataType\" : 'ResearchAndDevelopmentExpense'}\n",
    "\n",
    "# Display the first document in the results using pprint\n",
    "\n",
    "results = finance.find(query)\n",
    "\n",
    "print(\"First Document:\")\n",
    "pprint(results[0])"
   ]
  },
  {
   "cell_type": "code",
   "execution_count": 13,
   "id": "2531908b",
   "metadata": {},
   "outputs": [
    {
     "name": "stdout",
     "output_type": "stream",
     "text": [
      "First Document:\n",
      "{'_id': ObjectId('65e12b9dde62a26d6ce05828'),\n",
      " 'cik': '808362',\n",
      " 'dataType': 'ShareBasedCompensation',\n",
      " 'qtr': 0,\n",
      " 'value': 51000000,\n",
      " 'year': 2007}\n"
     ]
    }
   ],
   "source": [
    "# Query all ShareBasedCompensation datatypes\n",
    "query = {\"dataType\" : 'ShareBasedCompensation'}\n",
    "\n",
    "# Display the first document in the results using pprint\n",
    "\n",
    "results = finance.find(query)\n",
    "\n",
    "print(\"First Document:\")\n",
    "pprint(results[0])"
   ]
  },
  {
   "cell_type": "code",
   "execution_count": 14,
   "id": "021ecb34",
   "metadata": {},
   "outputs": [
    {
     "name": "stdout",
     "output_type": "stream",
     "text": [
      "First Document:\n",
      "{'_id': ObjectId('65e12b9dde62a26d6ce0583e'),\n",
      " 'cik': '808362',\n",
      " 'dataType': 'Depreciation',\n",
      " 'qtr': 0,\n",
      " 'value': 680000000,\n",
      " 'year': 2009}\n"
     ]
    }
   ],
   "source": [
    "# Query all Depreciation datatypes\n",
    "query = {\"dataType\" : 'Depreciation'}\n",
    "\n",
    "# Display the first document in the results using pprint\n",
    "\n",
    "results = finance.find(query)\n",
    "\n",
    "print(\"First Document:\")\n",
    "pprint(results[0])"
   ]
  },
  {
   "cell_type": "code",
   "execution_count": 15,
   "id": "d7a190a2",
   "metadata": {},
   "outputs": [
    {
     "name": "stdout",
     "output_type": "stream",
     "text": [
      "First Document:\n",
      "{'_id': ObjectId('65e12b9dde62a26d6ce0584e'),\n",
      " 'cik': '808362',\n",
      " 'dataType': 'AllocatedShareBasedCompensationExpense',\n",
      " 'qtr': 0,\n",
      " 'value': 69000000,\n",
      " 'year': 2010}\n"
     ]
    }
   ],
   "source": [
    "# Query all AllocatedShareBasedCompensationExpense datatypes\n",
    "query = {\"dataType\" : 'AllocatedShareBasedCompensationExpense'}\n",
    "\n",
    "# Display the first document in the results using pprint\n",
    "\n",
    "results = finance.find(query)\n",
    "\n",
    "print(\"First Document:\")\n",
    "pprint(results[0])"
   ]
  },
  {
   "cell_type": "code",
   "execution_count": 16,
   "id": "6bc4e221",
   "metadata": {},
   "outputs": [
    {
     "name": "stdout",
     "output_type": "stream",
     "text": [
      "First Document:\n",
      "{'_id': ObjectId('65e12b9dde62a26d6ce05855'),\n",
      " 'cik': '808362',\n",
      " 'dataType': 'CostsAndExpenses',\n",
      " 'qtr': 0,\n",
      " 'value': 8150000000,\n",
      " 'year': 2007}\n"
     ]
    }
   ],
   "source": [
    "# Query all CostsAndExpenses datatypes\n",
    "query = {\"dataType\" : 'CostsAndExpenses'}\n",
    "\n",
    "# Display the first document in the results using pprint\n",
    "\n",
    "results = finance.find(query)\n",
    "\n",
    "print(\"First Document:\")\n",
    "pprint(results[0])"
   ]
  },
  {
   "cell_type": "code",
   "execution_count": 17,
   "id": "30aceb3a",
   "metadata": {},
   "outputs": [
    {
     "name": "stdout",
     "output_type": "stream",
     "text": [
      "First Document:\n",
      "{'_id': ObjectId('65e12b9dde62a26d6ce05a4e'),\n",
      " 'cik': '1652044',\n",
      " 'dataType': 'GeneralAndAdministrativeExpense',\n",
      " 'qtr': 0,\n",
      " 'value': 4432000000,\n",
      " 'year': 2013}\n"
     ]
    }
   ],
   "source": [
    "# Query all GeneralAndAdminstrativeExpense datatypes\n",
    "query = {\"dataType\" : 'GeneralAndAdministrativeExpense'}\n",
    "\n",
    "# Display the first document in the results using pprint\n",
    "\n",
    "results = finance.find(query)\n",
    "\n",
    "print(\"First Document:\")\n",
    "pprint(results[0])"
   ]
  },
  {
   "cell_type": "code",
   "execution_count": 18,
   "id": "cadfddf9",
   "metadata": {},
   "outputs": [
    {
     "name": "stdout",
     "output_type": "stream",
     "text": [
      "First Document:\n",
      "{'_id': ObjectId('65e12b9dde62a26d6ce05891'),\n",
      " 'cik': '808362',\n",
      " 'dataType': 'InterestExpense',\n",
      " 'qtr': 0,\n",
      " 'value': 66000000,\n",
      " 'year': 2007}\n"
     ]
    }
   ],
   "source": [
    "# Query all InterestExpense datatypes\n",
    "query = {\"dataType\" : 'InterestExpense'}\n",
    "\n",
    "# Display the first document in the results using pprint\n",
    "\n",
    "results = finance.find(query)\n",
    "\n",
    "print(\"First Document:\")\n",
    "pprint(results[0])"
   ]
  },
  {
   "cell_type": "code",
   "execution_count": 19,
   "id": "716be7c0",
   "metadata": {},
   "outputs": [
    {
     "name": "stdout",
     "output_type": "stream",
     "text": [
      "First Document:\n",
      "{'_id': ObjectId('65e12b9dde62a26d6ce058b7'),\n",
      " 'cik': '808362',\n",
      " 'dataType': 'LeaseAndRentalExpense',\n",
      " 'qtr': 0,\n",
      " 'value': 227000000,\n",
      " 'year': 2008}\n"
     ]
    }
   ],
   "source": [
    "# Query all LeaseAndRentalExpense datatypes\n",
    "query = {\"dataType\" : 'LeaseAndRentalExpense'}\n",
    "\n",
    "# Display the first document in the results using pprint\n",
    "\n",
    "results = finance.find(query)\n",
    "\n",
    "print(\"First Document:\")\n",
    "pprint(results[0])"
   ]
  },
  {
   "cell_type": "code",
   "execution_count": 20,
   "id": "0aa93c2a",
   "metadata": {},
   "outputs": [
    {
     "name": "stdout",
     "output_type": "stream",
     "text": [
      "First Document:\n",
      "{'_id': ObjectId('65e12b9dde62a26d6ce05aa2'),\n",
      " 'cik': '1652044',\n",
      " 'dataType': 'MarketingAndAdvertisingExpense',\n",
      " 'qtr': 0,\n",
      " 'value': 2389000000,\n",
      " 'year': 2013}\n"
     ]
    }
   ],
   "source": [
    "# Query all MarkertingAndAdvertisingExpense datatypes\n",
    "query = {\"dataType\" : 'MarketingAndAdvertisingExpense'}\n",
    "\n",
    "# Display the first document in the results using pprint\n",
    "\n",
    "results = finance.find(query)\n",
    "\n",
    "print(\"First Document:\")\n",
    "pprint(results[0])"
   ]
  },
  {
   "cell_type": "code",
   "execution_count": 21,
   "id": "c9b8a7c8",
   "metadata": {},
   "outputs": [
    {
     "name": "stdout",
     "output_type": "stream",
     "text": [
      "First Document:\n",
      "{'_id': ObjectId('65e12b9dde62a26d6ce058c2'),\n",
      " 'cik': '808362',\n",
      " 'dataType': 'OtherAccruedLiabilitiesCurrent',\n",
      " 'qtr': 0,\n",
      " 'value': 263000000,\n",
      " 'year': 2008}\n"
     ]
    }
   ],
   "source": [
    "# Query all OtherAccruedLiabilitiesCurrent datatypes\n",
    "query = {\"dataType\" : 'OtherAccruedLiabilitiesCurrent'}\n",
    "\n",
    "# Display the first document in the results using pprint\n",
    "\n",
    "results = finance.find(query)\n",
    "\n",
    "print(\"First Document:\")\n",
    "pprint(results[0])"
   ]
  },
  {
   "cell_type": "code",
   "execution_count": 22,
   "id": "3398e0ca",
   "metadata": {},
   "outputs": [
    {
     "name": "stdout",
     "output_type": "stream",
     "text": [
      "First Document:\n",
      "{'_id': ObjectId('65e12b9dde62a26d6ce058e4'),\n",
      " 'cik': '808362',\n",
      " 'dataType': 'EntityCommonStockSharesOutstanding',\n",
      " 'qtr': 2,\n",
      " 'value': 309876683,\n",
      " 'year': 2009}\n"
     ]
    }
   ],
   "source": [
    "# Query all EntityCommonStockSharesOutstanding datatypes\n",
    "query = {\"dataType\" : 'EntityCommonStockSharesOutstanding'}\n",
    "\n",
    "# Display the first document in the results using pprint\n",
    "\n",
    "results = finance.find(query)\n",
    "\n",
    "print(\"First Document:\")\n",
    "pprint(results[0])"
   ]
  },
  {
   "cell_type": "code",
   "execution_count": 23,
   "id": "92d5b4be",
   "metadata": {},
   "outputs": [
    {
     "name": "stdout",
     "output_type": "stream",
     "text": [
      "First Document:\n",
      "{'_id': ObjectId('65e12b9dde62a26d6ce0591d'),\n",
      " 'cik': '808362',\n",
      " 'dataType': 'EntityPublicFloat',\n",
      " 'qtr': 3,\n",
      " 'value': 26994000000,\n",
      " 'year': 2008}\n"
     ]
    }
   ],
   "source": [
    "# Query all EntityPublicFloat datatypes\n",
    "query = {\"dataType\" : 'EntityPublicFloat'}\n",
    "\n",
    "# Display the first document in the results using pprint\n",
    "\n",
    "results = finance.find(query)\n",
    "\n",
    "print(\"First Document:\")\n",
    "pprint(results[0])"
   ]
  },
  {
   "cell_type": "code",
   "execution_count": null,
   "id": "bacd3f1f",
   "metadata": {},
   "outputs": [],
   "source": []
  }
 ],
 "metadata": {
  "kernelspec": {
   "display_name": "Python 3 (ipykernel)",
   "language": "python",
   "name": "python3"
  },
  "language_info": {
   "codemirror_mode": {
    "name": "ipython",
    "version": 3
   },
   "file_extension": ".py",
   "mimetype": "text/x-python",
   "name": "python",
   "nbconvert_exporter": "python",
   "pygments_lexer": "ipython3",
   "version": "3.10.13"
  }
 },
 "nbformat": 4,
 "nbformat_minor": 5
}
